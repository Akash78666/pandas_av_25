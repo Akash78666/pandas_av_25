{
 "cells": [
  {
   "cell_type": "code",
   "execution_count": 7,
   "id": "1c4debb9-5013-4297-b0da-37fdd023e927",
   "metadata": {},
   "outputs": [
    {
     "name": "stdout",
     "output_type": "stream",
     "text": [
      "        course_name  duration\n",
      "0      Data Science         2\n",
      "1  Machine Learning         3\n",
      "2          Big Data         6\n",
      "3     Data Engineer         4\n"
     ]
    }
   ],
   "source": [
    "import pandas as pd\n",
    "\n",
    "course_name = [\"Data Science\", \"Machine Learning\", \"Big Data\", \"Data Engineer\"]\n",
    "\n",
    "duration =  [2,3,6,4]\n",
    "\n",
    "df = pd.DataFrame(data = {\"course_name\" : course_name, \"duration\" : duration})\n",
    "print(df)\n"
   ]
  },
  {
   "cell_type": "code",
   "execution_count": null,
   "id": "ad45925a-6be6-4c7c-ac60-c1e9184be489",
   "metadata": {},
   "outputs": [],
   "source": [
    "Q1. Write a code to print the data present in the second row of the dataframe, df."
   ]
  },
  {
   "cell_type": "code",
   "execution_count": 14,
   "id": "b7720c4d-1e04-480d-a41e-175f373257f1",
   "metadata": {},
   "outputs": [
    {
     "name": "stdout",
     "output_type": "stream",
     "text": [
      "        course_name  duration\n",
      "1  Machine Learning         3\n"
     ]
    }
   ],
   "source": [
    "print(df.iloc[1:2])"
   ]
  },
  {
   "cell_type": "code",
   "execution_count": null,
   "id": "0cdc8d2c-225d-484f-96a3-2a98944a3956",
   "metadata": {},
   "outputs": [],
   "source": [
    "Q2. What is the difference between the functions loc and iloc in pandas.DataFrame?\n",
    "Ans:-The loc() function is label based data selecting method which means that we have to pass the name of the row or column which we want to select. This method includes the last element of the range passed in it, unlike iloc(). loc() can accept the boolean data unlike iloc()"
   ]
  },
  {
   "cell_type": "code",
   "execution_count": 33,
   "id": "5de4c8f4-f3b1-470f-8d49-d2ba766b0d7a",
   "metadata": {},
   "outputs": [
    {
     "name": "stdout",
     "output_type": "stream",
     "text": [
      "   0\n",
      "3  D\n",
      "0  A\n",
      "1  B\n",
      "2  C\n"
     ]
    }
   ],
   "source": [
    "import pandas as pd\n",
    "\n",
    "import numpy as np\n",
    "\n",
    "columns = ['column_1', 'column_2', 'column_3', 'column_4', 'column_5', 'column_6']\n",
    "\n",
    "indices = [1,2,3,4,5,6]\n",
    "\n",
    "#Creating a dataframe:\n",
    "\n",
    "df1 = pd.DataFrame(np.random.rand(6,6), columns = columns, index = indices)\n",
    "print(df)"
   ]
  },
  {
   "cell_type": "code",
   "execution_count": 31,
   "id": "1e5205fe-9abc-414c-b4a1-e37d3c95adf2",
   "metadata": {},
   "outputs": [
    {
     "name": "stdout",
     "output_type": "stream",
     "text": [
      "   0\n",
      "0  A\n",
      "1  B\n",
      "2  C\n",
      "3  D\n",
      "   0\n",
      "3  D\n",
      "0  A\n",
      "1  B\n",
      "2  C\n",
      "   0\n",
      "3  D\n",
      "0  A\n",
      "1  B\n",
      "   0\n",
      "3  D\n",
      "0  A\n"
     ]
    }
   ],
   "source": [
    "import pandas as pd\n",
    "df =  pd.DataFrame(data = ['A', 'B', 'C','D'], index = [0,1,2,3])\n",
    "print( df )\n",
    "df = df .reindex(index = [3,0,1,2])\n",
    "print( df )\n",
    "new_df =(df.iloc[:3])\n",
    "print(new_df)\n",
    "new_2df=(df.iloc[:2])\n",
    "print(new_2df)"
   ]
  },
  {
   "cell_type": "code",
   "execution_count": null,
   "id": "9b438341-fd65-4632-bc7e-70b6d600b7b7",
   "metadata": {},
   "outputs": [],
   "source": [
    "Q4. Write a code to find the following statistical measurements for the above dataframe df1:\n",
    "\n",
    "(i) \tmean of each and every column present in the dataframe.\n",
    "\n",
    "(ii) standard deviation of column, ‘column_2’"
   ]
  },
  {
   "cell_type": "code",
   "execution_count": 44,
   "id": "0fb0a8bf-431a-4460-8428-905366842b72",
   "metadata": {},
   "outputs": [
    {
     "name": "stdout",
     "output_type": "stream",
     "text": [
      "column_1    0.305701\n",
      "column_2    0.178433\n",
      "column_3    0.240098\n",
      "column_4    0.265278\n",
      "column_5    0.230922\n",
      "column_6    0.280554\n",
      "dtype: float64\n",
      "Standard deviation of the said Data Series:\n",
      "column_1    0.310897\n",
      "column_2    0.296713\n",
      "column_3    0.350928\n",
      "column_4    0.221421\n",
      "column_5    0.322821\n",
      "column_6    0.296022\n",
      "dtype: float64\n"
     ]
    }
   ],
   "source": [
    "import pandas as pd\n",
    "\n",
    "import numpy as np\n",
    "\n",
    "columns = ['column_1', 'column_2', 'column_3', 'column_4', 'column_5', 'column_6']\n",
    "\n",
    "indices = [1,2,3,4,5,6]\n",
    "\n",
    "#Creating a dataframe:\n",
    "\n",
    "df1 = pd.DataFrame(np.random.rand(6,6), columns = columns, index = indices)\n",
    "print(df)\n",
    "print(\"Standard deviation of the said Data Series:\")\n",
    "df=(df1.std())\n",
    "print(df)\n"
   ]
  },
  {
   "cell_type": "code",
   "execution_count": null,
   "id": "d18d769f-e8a8-4474-9897-ab2ce69d2e03",
   "metadata": {},
   "outputs": [],
   "source": [
    "Q5. Replace the data present in the second row of column, ‘column_2’ by a string variable then find the\n",
    "mean of column, column_2."
   ]
  },
  {
   "cell_type": "code",
   "execution_count": 48,
   "id": "60ade7d7-feb7-4774-a2f4-9e02a5dd702b",
   "metadata": {},
   "outputs": [
    {
     "ename": "NameError",
     "evalue": "name 'column_2' is not defined",
     "output_type": "error",
     "traceback": [
      "\u001b[0;31m---------------------------------------------------------------------------\u001b[0m",
      "\u001b[0;31mNameError\u001b[0m                                 Traceback (most recent call last)",
      "Cell \u001b[0;32mIn[48], line 1\u001b[0m\n\u001b[0;32m----> 1\u001b[0m df1\u001b[38;5;241m=\u001b[39mdf1\u001b[38;5;241m.\u001b[39mloc[:\u001b[43mcolumn_2\u001b[49m ]\n",
      "\u001b[0;31mNameError\u001b[0m: name 'column_2' is not defined"
     ]
    }
   ],
   "source": [
    "df1=df1.loc[:column_2 ]"
   ]
  },
  {
   "cell_type": "code",
   "execution_count": null,
   "id": "b212267d-89ca-40bb-ae27-993592c0a87d",
   "metadata": {},
   "outputs": [],
   "source": [
    "Q6. What do you understand about the windows function in pandas and list the types of windows\n",
    "functions?\n",
    "Ans:-A window is a value (in terms of rows) that tells us the distance between our current row and the row which is to be used for calculations. Windows function in Pandas can be broadly divided into three categories namely- Aggregate, Ranking, and Value"
   ]
  },
  {
   "cell_type": "code",
   "execution_count": null,
   "id": "5d7fc699-8525-40db-a305-d78b15b97a1f",
   "metadata": {},
   "outputs": [],
   "source": [
    "Q7. Write a code to print only the current month and year at the time of answering this question."
   ]
  },
  {
   "cell_type": "code",
   "execution_count": 50,
   "id": "fc272c6b-1e1d-47bc-8ea7-6e66ca798745",
   "metadata": {},
   "outputs": [
    {
     "name": "stdout",
     "output_type": "stream",
     "text": [
      "Date from a given year, month, day:\n",
      "2023-03-05 00:00:00\n"
     ]
    }
   ],
   "source": [
    "from datetime import datetime\n",
    "date1 = datetime(year=2023, month=3, day=5)\n",
    "print(\"Date from a given year, month, day:\")\n",
    "print(date1)\n"
   ]
  },
  {
   "cell_type": "code",
   "execution_count": 1,
   "id": "c45cb0f8-7348-41fc-aee7-d45a1d0f190e",
   "metadata": {},
   "outputs": [
    {
     "name": "stdout",
     "output_type": "stream",
     "text": [
      "Current date: 2023-10-30 00:00:00\n",
      "Tomorrow: 2023-10-31 00:00:00\n",
      "Yesterday: 2023-10-29 00:00:00\n",
      "\n",
      "Difference between two dates:  14 days, 0:00:00\n"
     ]
    }
   ],
   "source": [
    "import pandas as pd\n",
    "import datetime\n",
    "from datetime import datetime, date\n",
    "today = datetime(2023, 10, 30)\n",
    "print(\"Current date:\", today)\n",
    "tomorrow = today + pd.Timedelta(days=1)\n",
    "print(\"Tomorrow:\", tomorrow)\n",
    "yesterday = today - pd.Timedelta(days=1)\n",
    "print(\"Yesterday:\", yesterday)\n",
    "date1 = datetime(2023, 8, 2)\n",
    "date2 = datetime(2023, 7, 19)\n",
    "print(\"\\nDifference between two dates: \",(date1 - date2))\n"
   ]
  },
  {
   "cell_type": "code",
   "execution_count": null,
   "id": "24aa6917-cfdc-4fbe-84eb-d5e3c1ebbf46",
   "metadata": {},
   "outputs": [],
   "source": []
  }
 ],
 "metadata": {
  "kernelspec": {
   "display_name": "Python 3 (ipykernel)",
   "language": "python",
   "name": "python3"
  },
  "language_info": {
   "codemirror_mode": {
    "name": "ipython",
    "version": 3
   },
   "file_extension": ".py",
   "mimetype": "text/x-python",
   "name": "python",
   "nbconvert_exporter": "python",
   "pygments_lexer": "ipython3",
   "version": "3.10.8"
  }
 },
 "nbformat": 4,
 "nbformat_minor": 5
}
